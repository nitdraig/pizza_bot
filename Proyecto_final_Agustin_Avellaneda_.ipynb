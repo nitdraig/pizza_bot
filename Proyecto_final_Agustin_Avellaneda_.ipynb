{
  "cells": [
    {
      "cell_type": "code",
      "execution_count": null,
      "metadata": {
        "colab": {
          "base_uri": "https://localhost:8080/"
        },
        "id": "WW6CBDnBhjqW",
        "outputId": "9d5082bb-2e07-4d04-c199-4739654e94f6"
      },
      "outputs": [],
      "source": [
        "#Instalar dependencias\n",
        "#Link del menú .cvs: https://drive.google.com/file/d/1Z71WcpYjqGq9u7U82PVCe-r0aIaBdqQ9/view?usp=sharing\n",
        "!pip install streamlit pandas fuzzywuzzy\n",
        "!npm install localtunnel\n",
        "!pip install openai==0.28\n",
        "\n"
      ]
    },
    {
      "cell_type": "code",
      "execution_count": 16,
      "metadata": {
        "id": "cQH777_AM6rN"
      },
      "outputs": [],
      "source": [
        "# Configuración de la key la API de OpenAI\n",
        "from google.colab import userdata\n",
        "OPEN_KEY = userdata.get('OPENAI_API_KEY')"
      ]
    },
    {
      "cell_type": "code",
      "execution_count": 17,
      "metadata": {
        "id": "U8XXbu9Lhpn0"
      },
      "outputs": [],
      "source": [
        "#Importar dependencias\n",
        "%%writefile app.py\n",
        "import pandas as pd\n",
        "import openai\n",
        "import streamlit as st\n",
        "from fuzzywuzzy import fuzz\n",
        "from fuzzywuzzy import process\n",
        "\n",
        "# Cargar el archivo CSV del menú\n",
        "menu = pd.read_csv('Menu.csv')\n",
        "\n",
        "#Importar la KEY\n",
        "\n",
        "openai.api_key = OPEN_KEY\n",
        "\n",
        "# Función para generar una respuesta basada en la entrada del usuario\n",
        "def generate_response(user_input, menu):\n",
        "    # Buscar el artículo más similar en el menú\n",
        "    result = process.extractOne(user_input, menu['item'], scorer=fuzz.partial_ratio)\n",
        "    # Obtener el artículo del menú que coincide\n",
        "    if result and result[1] > 50:\n",
        "\n",
        "        menu_item = menu[menu['item'] == result[0]].iloc[0]\n",
        "        response = f\"Este es el artículo más similar que encontré en el menú:\\n{menu_item['item']} - ${menu_item['price']}\\n\"\n",
        "        response += f\"Descripción: {menu_item['description']}\\n\\n\"\n",
        "\n",
        "        # Recomendación de una bebida para acompañar el menú\n",
        "        beverage_recommendation = recommend_beverage(result[0])\n",
        "        response += f\"Recomendación de bebida:\\n{beverage_recommendation}\"\n",
        "    else:\n",
        "        # Recomendar una comida aleatoria si no se encuentra una coincidencia suficiente\n",
        "        random_item = menu.sample().iloc[0]\n",
        "        response = f\"No encontré ese artículo en el menú, pero te puedo recomendar:\\n{random_item['item']} - ${random_item['price']}\\n\"\n",
        "        response += f\"Descripción: {random_item['description']}\"\n",
        "\n",
        "    return response\n",
        "\n",
        "# Función para recomendar una bebida usando OpenAI\n",
        "def recommend_beverage(user_input):\n",
        "    response = openai.Completion.create(\n",
        "        engine=\"text-davinci-003\",\n",
        "        prompt=f\"Recomienda una bebida para acompañar el siguiente artículo del menú en no más de 60 tokens: {user_input}\",\n",
        "        max_tokens=60\n",
        "    )\n",
        "    return response.choices[0].text.strip()\n",
        "\n",
        "# Crear la aplicación Streamlit\n",
        "st.title('Rotiseria Don Claudio')\n",
        "user_input = st.text_input(\"¿Qué te gustaría comer hoy?:\")\n",
        "\n",
        "if st.checkbox('Mostrar menú completo'):\n",
        "    st.write(menu)\n",
        "\n",
        "if st.button('Enviar'):\n",
        "    if user_input:\n",
        "        response = generate_response(user_input, menu)\n",
        "        st.write(response)\n",
        "    else:\n",
        "        st.write(\"Por favor, escribe algo en el campo de pedido.\")\n"
      ]
    },
    {
      "cell_type": "code",
      "execution_count": 18,
      "metadata": {
        "id": "ckNyf9AblE-9"
      },
      "outputs": [],
      "source": [
        "#Guarda la celda anterior en un app.py y logs.txt\n",
        "!streamlit run /content/app.py &>/content/logs.txt &"
      ]
    },
    {
      "cell_type": "code",
      "execution_count": null,
      "metadata": {
        "colab": {
          "base_uri": "https://localhost:8080/"
        },
        "id": "hF1eWD_6hzV4",
        "outputId": "efa58c97-0e11-442c-c24e-8213a4f4081f"
      },
      "outputs": [],
      "source": [
        "#La contraseña del tunel está en logs.txt, el número de \"External URL\" quitando el \"http://\"\" y \"\":8501\". Es decir la IP provista por Colab\n",
        "\n",
        "import subprocess\n",
        "# Inicia Streamlit en segundo plano\n",
        "process = subprocess.Popen(['streamlit', 'run', 'app.py'])\n",
        "\n",
        "!npx localtunnel --port 8501\n"
      ]
    }
  ],
  "metadata": {
    "colab": {
      "provenance": []
    },
    "kernelspec": {
      "display_name": "Python 3",
      "name": "python3"
    },
    "language_info": {
      "name": "python"
    }
  },
  "nbformat": 4,
  "nbformat_minor": 0
}
